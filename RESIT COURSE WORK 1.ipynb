{
 "cells": [
  {
   "cell_type": "markdown",
   "id": "ec0dc4d7",
   "metadata": {},
   "source": [
    "Install the yfinance package, which is the downloader connected with the Yahoo Fiannce API.\n",
    "\n"
   ]
  },
  {
   "cell_type": "code",
   "execution_count": 27,
   "id": "090234bc",
   "metadata": {},
   "outputs": [
    {
     "name": "stdout",
     "output_type": "stream",
     "text": [
      "Requirement already satisfied: yfinance in ./opt/anaconda3/lib/python3.9/site-packages (0.1.87)\n",
      "Requirement already satisfied: pandas>=0.24.0 in ./opt/anaconda3/lib/python3.9/site-packages (from yfinance) (1.4.4)\n",
      "Requirement already satisfied: lxml>=4.5.1 in ./opt/anaconda3/lib/python3.9/site-packages (from yfinance) (4.9.1)\n",
      "Requirement already satisfied: numpy>=1.15 in ./opt/anaconda3/lib/python3.9/site-packages (from yfinance) (1.21.5)\n",
      "Requirement already satisfied: multitasking>=0.0.7 in ./opt/anaconda3/lib/python3.9/site-packages (from yfinance) (0.0.11)\n",
      "Requirement already satisfied: requests>=2.26 in ./opt/anaconda3/lib/python3.9/site-packages (from yfinance) (2.28.1)\n",
      "Requirement already satisfied: appdirs>=1.4.4 in ./opt/anaconda3/lib/python3.9/site-packages (from yfinance) (1.4.4)\n",
      "Requirement already satisfied: python-dateutil>=2.8.1 in ./opt/anaconda3/lib/python3.9/site-packages (from pandas>=0.24.0->yfinance) (2.8.2)\n",
      "Requirement already satisfied: pytz>=2020.1 in ./opt/anaconda3/lib/python3.9/site-packages (from pandas>=0.24.0->yfinance) (2022.1)\n",
      "Requirement already satisfied: urllib3<1.27,>=1.21.1 in ./opt/anaconda3/lib/python3.9/site-packages (from requests>=2.26->yfinance) (1.26.11)\n",
      "Requirement already satisfied: charset-normalizer<3,>=2 in ./opt/anaconda3/lib/python3.9/site-packages (from requests>=2.26->yfinance) (2.0.4)\n",
      "Requirement already satisfied: idna<4,>=2.5 in ./opt/anaconda3/lib/python3.9/site-packages (from requests>=2.26->yfinance) (3.3)\n",
      "Requirement already satisfied: certifi>=2017.4.17 in ./opt/anaconda3/lib/python3.9/site-packages (from requests>=2.26->yfinance) (2022.9.24)\n",
      "Requirement already satisfied: six>=1.5 in ./opt/anaconda3/lib/python3.9/site-packages (from python-dateutil>=2.8.1->pandas>=0.24.0->yfinance) (1.16.0)\n",
      "Note: you may need to restart the kernel to use updated packages.\n"
     ]
    }
   ],
   "source": [
    "pip install yfinance"
   ]
  },
  {
   "cell_type": "code",
   "execution_count": 28,
   "id": "8114f9cc",
   "metadata": {},
   "outputs": [],
   "source": [
    "import yfinance as yf\n",
    "import numpy as np\n",
    "import pandas as pd\n",
    "import matplotlib as mpl"
   ]
  },
  {
   "cell_type": "markdown",
   "id": "b08fe471",
   "metadata": {},
   "source": [
    "##   1a. Major crypto currency chosen:Bitcoin-usd"
   ]
  },
  {
   "cell_type": "markdown",
   "id": "c77619cc",
   "metadata": {},
   "source": [
    "1b. Download btc-usd daily historical two years data and save it as btc-usd pandas data frame\n",
    "\n"
   ]
  },
  {
   "cell_type": "code",
   "execution_count": 29,
   "id": "00485224",
   "metadata": {},
   "outputs": [
    {
     "name": "stdout",
     "output_type": "stream",
     "text": [
      "[*********************100%***********************]  1 of 1 completed\n"
     ]
    }
   ],
   "source": [
    "initial_data = yf.download(\"BTC-USD\", start=\"2021-06-25\", end=\"2023-06-25\")"
   ]
  },
  {
   "cell_type": "code",
   "execution_count": 30,
   "id": "a3f6bc92",
   "metadata": {},
   "outputs": [
    {
     "data": {
      "text/html": [
       "<div>\n",
       "<style scoped>\n",
       "    .dataframe tbody tr th:only-of-type {\n",
       "        vertical-align: middle;\n",
       "    }\n",
       "\n",
       "    .dataframe tbody tr th {\n",
       "        vertical-align: top;\n",
       "    }\n",
       "\n",
       "    .dataframe thead th {\n",
       "        text-align: right;\n",
       "    }\n",
       "</style>\n",
       "<table border=\"1\" class=\"dataframe\">\n",
       "  <thead>\n",
       "    <tr style=\"text-align: right;\">\n",
       "      <th></th>\n",
       "      <th>Open</th>\n",
       "      <th>High</th>\n",
       "      <th>Low</th>\n",
       "      <th>Close</th>\n",
       "      <th>Adj Close</th>\n",
       "      <th>Volume</th>\n",
       "    </tr>\n",
       "    <tr>\n",
       "      <th>Date</th>\n",
       "      <th></th>\n",
       "      <th></th>\n",
       "      <th></th>\n",
       "      <th></th>\n",
       "      <th></th>\n",
       "      <th></th>\n",
       "    </tr>\n",
       "  </thead>\n",
       "  <tbody>\n",
       "    <tr>\n",
       "      <th>2021-06-25</th>\n",
       "      <td>34659.105469</td>\n",
       "      <td>35487.246094</td>\n",
       "      <td>31350.884766</td>\n",
       "      <td>31637.779297</td>\n",
       "      <td>31637.779297</td>\n",
       "      <td>40230904226</td>\n",
       "    </tr>\n",
       "    <tr>\n",
       "      <th>2021-06-26</th>\n",
       "      <td>31594.664062</td>\n",
       "      <td>32637.587891</td>\n",
       "      <td>30184.501953</td>\n",
       "      <td>32186.277344</td>\n",
       "      <td>32186.277344</td>\n",
       "      <td>38585385521</td>\n",
       "    </tr>\n",
       "    <tr>\n",
       "      <th>2021-06-27</th>\n",
       "      <td>32287.523438</td>\n",
       "      <td>34656.128906</td>\n",
       "      <td>32071.757812</td>\n",
       "      <td>34649.644531</td>\n",
       "      <td>34649.644531</td>\n",
       "      <td>35511640894</td>\n",
       "    </tr>\n",
       "    <tr>\n",
       "      <th>2021-06-28</th>\n",
       "      <td>34679.121094</td>\n",
       "      <td>35219.890625</td>\n",
       "      <td>33902.074219</td>\n",
       "      <td>34434.335938</td>\n",
       "      <td>34434.335938</td>\n",
       "      <td>33892523752</td>\n",
       "    </tr>\n",
       "    <tr>\n",
       "      <th>2021-06-29</th>\n",
       "      <td>34475.558594</td>\n",
       "      <td>36542.109375</td>\n",
       "      <td>34252.484375</td>\n",
       "      <td>35867.777344</td>\n",
       "      <td>35867.777344</td>\n",
       "      <td>37901460044</td>\n",
       "    </tr>\n",
       "  </tbody>\n",
       "</table>\n",
       "</div>"
      ],
      "text/plain": [
       "                    Open          High           Low         Close  \\\n",
       "Date                                                                 \n",
       "2021-06-25  34659.105469  35487.246094  31350.884766  31637.779297   \n",
       "2021-06-26  31594.664062  32637.587891  30184.501953  32186.277344   \n",
       "2021-06-27  32287.523438  34656.128906  32071.757812  34649.644531   \n",
       "2021-06-28  34679.121094  35219.890625  33902.074219  34434.335938   \n",
       "2021-06-29  34475.558594  36542.109375  34252.484375  35867.777344   \n",
       "\n",
       "               Adj Close       Volume  \n",
       "Date                                   \n",
       "2021-06-25  31637.779297  40230904226  \n",
       "2021-06-26  32186.277344  38585385521  \n",
       "2021-06-27  34649.644531  35511640894  \n",
       "2021-06-28  34434.335938  33892523752  \n",
       "2021-06-29  35867.777344  37901460044  "
      ]
     },
     "execution_count": 30,
     "metadata": {},
     "output_type": "execute_result"
    }
   ],
   "source": [
    "initial_data.head()"
   ]
  },
  {
   "cell_type": "code",
   "execution_count": 31,
   "id": "2b33a542",
   "metadata": {},
   "outputs": [
    {
     "data": {
      "text/plain": [
       "Date\n",
       "2021-06-25    31637.779297\n",
       "2021-06-26    32186.277344\n",
       "2021-06-27    34649.644531\n",
       "2021-06-28    34434.335938\n",
       "2021-06-29    35867.777344\n",
       "Name: Adj Close, dtype: float64"
      ]
     },
     "execution_count": 31,
     "metadata": {},
     "output_type": "execute_result"
    }
   ],
   "source": [
    "initial_data['Adj Close'].head()"
   ]
  },
  {
   "cell_type": "markdown",
   "id": "7afa4f8f",
   "metadata": {},
   "source": [
    "adjusted close price"
   ]
  },
  {
   "cell_type": "code",
   "execution_count": 32,
   "id": "b30e13c1",
   "metadata": {},
   "outputs": [
    {
     "name": "stdout",
     "output_type": "stream",
     "text": [
      "<class 'pandas.core.series.Series'>\n",
      "DatetimeIndex: 730 entries, 2021-06-25 to 2023-06-24\n",
      "Series name: Adj Close\n",
      "Non-Null Count  Dtype  \n",
      "--------------  -----  \n",
      "730 non-null    float64\n",
      "dtypes: float64(1)\n",
      "memory usage: 11.4 KB\n"
     ]
    }
   ],
   "source": [
    "data =  initial_data['Adj Close']\n",
    "data.info()"
   ]
  },
  {
   "cell_type": "markdown",
   "id": "9707a3e0",
   "metadata": {},
   "source": [
    "plotting the movement/shape of BTC-USD from November 2020 to November 2022 and subsequently calculating its annualised volatility\n",
    "\n",
    "fig 1.0"
   ]
  },
  {
   "cell_type": "code",
   "execution_count": 33,
   "id": "522c78c7",
   "metadata": {},
   "outputs": [
    {
     "data": {
      "text/plain": [
       "array([<AxesSubplot:xlabel='Date'>], dtype=object)"
      ]
     },
     "execution_count": 33,
     "metadata": {},
     "output_type": "execute_result"
    },
    {
     "data": {
      "image/png": "[encoded data removed]",
      "text/plain": [
       "<Figure size 800x600 with 1 Axes>"
      ]
     },
     "metadata": {},
     "output_type": "display_data"
    }
   ],
   "source": [
    "data.plot(figsize=(8, 6), subplots=True)"
   ]
  },
  {
   "cell_type": "markdown",
   "id": "ae487bc9",
   "metadata": {},
   "source": [
    "calculating the annualized return"
   ]
  },
  {
   "cell_type": "code",
   "execution_count": 34,
   "id": "1c03c286",
   "metadata": {},
   "outputs": [
    {
     "name": "stdout",
     "output_type": "stream",
     "text": [
      "[*********************100%***********************]  1 of 1 completed\n"
     ]
    }
   ],
   "source": [
    "data = yf.download(\"BTC-USD\", start=\"2022-06-04\", end=\"2023-06-04\")"
   ]
  },
  {
   "cell_type": "code",
   "execution_count": 35,
   "id": "109e9a48",
   "metadata": {},
   "outputs": [],
   "source": [
    "log_return = np.log(data['Adj Close'] / data['Adj Close'].shift(1))"
   ]
  },
  {
   "cell_type": "code",
   "execution_count": 36,
   "id": "b95b0c03",
   "metadata": {},
   "outputs": [
    {
     "name": "stdout",
     "output_type": "stream",
     "text": [
      "The annualised volatility is 57.11 %\n"
     ]
    }
   ],
   "source": [
    "vol = np.sqrt(365) * log_return.std()\n",
    "print('The annualised volatility is', round(vol*100,2), '%')"
   ]
  },
  {
   "cell_type": "markdown",
   "id": "a076facc",
   "metadata": {},
   "source": [
    "designing the derivative"
   ]
  },
  {
   "cell_type": "markdown",
   "id": "58e5c70a",
   "metadata": {},
   "source": [
    "a. Design a derivative and its associated pricing value using at least two methods which must be different."
   ]
  },
  {
   "cell_type": "markdown",
   "id": "f28c532c",
   "metadata": {},
   "source": [
    "Designing the vanilla derivative using the first model:\n",
    "\n",
    "Black Scholes method"
   ]
  },
  {
   "cell_type": "code",
   "execution_count": 37,
   "id": "64949df0",
   "metadata": {},
   "outputs": [],
   "source": [
    "import numpy as np\n",
    "import pandas as pd\n",
    "import matplotlib.pyplot as plt\n",
    "import scipy.stats as si\n",
    "import yfinance as yf"
   ]
  },
  {
   "cell_type": "code",
   "execution_count": 38,
   "id": "cc808a13",
   "metadata": {},
   "outputs": [],
   "source": [
    "def euro_option_bs(S, K, T, r, vol, payoff):\n",
    "    \n",
    "    \n",
    "    d1 = (np.log(S / K) + (r + 0.5 * vol ** 2) * T) / (vol * np.sqrt(T))\n",
    "    d2 = (np.log(S / K) + (r - 0.5 * vol ** 2) * T) / (vol * np.sqrt(T))\n",
    "    if payoff == \"call\":\n",
    "        option_value = - S * si.norm.cdf(-d1, 0.0, 1.0) + K * np.exp(-r * T) * si.norm.cdf(-d2, 0.0, 1.0)\n",
    "    \n",
    "    return option_value"
   ]
  },
  {
   "cell_type": "markdown",
   "id": "c947c34e",
   "metadata": {},
   "source": [
    "where S= spot price, k=strike price, T= time to maturity, r=interest rate, vol= volatility\n"
   ]
  },
  {
   "cell_type": "code",
   "execution_count": 39,
   "id": "aee08115",
   "metadata": {},
   "outputs": [],
   "source": [
    "s = 31637\n",
    "K = 32186\n",
    "T = 0.08   # 1 Year \n",
    "r = 0.04\n",
    "q = 0\n",
    "v = 0.7"
   ]
  },
  {
   "cell_type": "code",
   "execution_count": 40,
   "id": "87696553",
   "metadata": {},
   "outputs": [
    {
     "data": {
      "text/plain": [
       "2281.8074594238224"
      ]
     },
     "execution_count": 40,
     "metadata": {},
     "output_type": "execute_result"
    }
   ],
   "source": [
    "euro_option_bs(s, K, T, r, vol, 'call')"
   ]
  },
  {
   "cell_type": "markdown",
   "id": "45e9463a",
   "metadata": {},
   "source": [
    "Designing the vanilla derivative using the first model:\n",
    "# monte Carlo Simulation"
   ]
  },
  {
   "cell_type": "code",
   "execution_count": 41,
   "id": "e7a9a86e",
   "metadata": {},
   "outputs": [],
   "source": [
    "def mcs_simulation_np(p):\n",
    "    M = p\n",
    "    I = p\n",
    "    dt = T / M \n",
    "    S = np.zeros((M + 1, I))\n",
    "    S[0] = S0 \n",
    "    rn = np.random.standard_normal(S.shape) \n",
    "    for t in range(1, M + 1): \n",
    "        S[t] = S[t-1] * np.exp((r - sigma ** 2 / 2) * dt + sigma * np.sqrt(dt) * rn[t]) \n",
    "    return S"
   ]
  },
  {
   "cell_type": "code",
   "execution_count": 42,
   "id": "ddffca41",
   "metadata": {},
   "outputs": [],
   "source": [
    "T = 0.08\n",
    "r = 0.04\n",
    "sigma = 0.7\n",
    "S0 =31637\n",
    "K = 32186"
   ]
  },
  {
   "cell_type": "code",
   "execution_count": 43,
   "id": "d3acedf5",
   "metadata": {},
   "outputs": [],
   "source": [
    "S = mcs_simulation_np(100)"
   ]
  },
  {
   "cell_type": "code",
   "execution_count": 44,
   "id": "1610e4c0",
   "metadata": {},
   "outputs": [
    {
     "data": {
      "text/plain": [
       "array([[31637.        , 32119.23702999, 31366.81508761, ...,\n",
       "        38037.64309351, 37480.85729181, 37430.03896165],\n",
       "       [31637.        , 31872.93252925, 31035.49986198, ...,\n",
       "        23802.57565578, 24286.38828796, 24733.65004186],\n",
       "       [31637.        , 31436.82442785, 31316.60689245, ...,\n",
       "        29049.89984018, 29823.79173772, 29959.20955572],\n",
       "       ...,\n",
       "       [31637.        , 30969.10924907, 31994.3503265 , ...,\n",
       "        27693.44468815, 27241.33678847, 27234.7741627 ],\n",
       "       [31637.        , 30861.78647861, 31043.4842041 , ...,\n",
       "        36030.06833145, 37004.08398477, 38047.42283433],\n",
       "       [31637.        , 30903.07747463, 30910.81144425, ...,\n",
       "        17241.12171764, 17153.96868812, 16752.68458872]])"
      ]
     },
     "execution_count": 44,
     "metadata": {},
     "output_type": "execute_result"
    }
   ],
   "source": [
    "S = np.transpose(S)\n",
    "S\n"
   ]
  },
  {
   "cell_type": "code",
   "execution_count": 45,
   "id": "755196fa",
   "metadata": {},
   "outputs": [
    {
     "name": "stdout",
     "output_type": "stream",
     "text": [
      "European call 2408.21498703138\n"
     ]
    }
   ],
   "source": [
    "c = np.mean(np.maximum(S[:,-1] - K,0))\n",
    "print('European call', str(c))"
   ]
  },
  {
   "cell_type": "markdown",
   "id": "38fe60c0",
   "metadata": {},
   "source": [
    "Greeks¶"
   ]
  },
  {
   "cell_type": "markdown",
   "id": "24c25144",
   "metadata": {},
   "source": [
    "1.DELTA Delta, ∆, measures the rate of change of the theoretical option value with respect to changes in the underlying asset's price. Delta is the first derivative of the value V of the option with respect to the underlying instrument's price S."
   ]
  },
  {
   "cell_type": "code",
   "execution_count": 46,
   "id": "f525a21f",
   "metadata": {},
   "outputs": [],
   "source": [
    "def delta(S, K, T, r, q, vol, payoff):\n",
    "    \n",
    "    d1 = (np.log(S / K) + (r - q + 0.5 * vol ** 2) * T) / (vol * np.sqrt(T))\n",
    "    if payoff == \"call\":\n",
    "        delta = np.exp(-q * T) * si.norm.cdf(d1, 0.0, 1.0)\n",
    "    elif payoff == \"put\":\n",
    "        delta =  - np.exp(-q * T) * si.norm.cdf(-d1, 0.0, 1.0)\n",
    "    \n",
    "    return delta\n",
    "\n"
   ]
  },
  {
   "cell_type": "code",
   "execution_count": 48,
   "id": "d0b6a960",
   "metadata": {},
   "outputs": [],
   "source": [
    "S = np.linspace(50,150,11)\n",
    "Delta_Call = np.zeros((len(S),1))\n",
    "Delta_Put = np.zeros((len(S),1))\n",
    "for i in range(len(S)):\n",
    "    Delta_Call [i] = delta(S[i], 31637, 0.08, 0.04, 0, 0.7, 'call')"
   ]
  },
  {
   "cell_type": "code",
   "execution_count": 60,
   "id": "0bee7d34",
   "metadata": {},
   "outputs": [
    {
     "data": {
      "text/plain": [
       "0.5112737197641347"
      ]
     },
     "execution_count": 60,
     "metadata": {},
     "output_type": "execute_result"
    }
   ],
   "source": [
    "delta(31637, 32186, 0.08, 0.04, 0, 0.7, 'call')"
   ]
  },
  {
   "cell_type": "markdown",
   "id": "75e8777d",
   "metadata": {},
   "source": [
    "if the underlying asset price decrease from 31637 to 31636: call option value will reduce by $0.51 (dollars\n",
    "\n"
   ]
  },
  {
   "cell_type": "code",
   "execution_count": 64,
   "id": "8860e9a3",
   "metadata": {},
   "outputs": [],
   "source": [
    "S = np.linspace(50,150,11)\n",
    "Delta_Call = np.zeros((len(S),1))\n",
    "Delta_Put = np.zeros((len(S),1))\n",
    "for i in range(len(S)):\n",
    "    Delta_Call [i] = delta(S[i], 31637, 0.08, 0.04, 0, 0.7, 'call')"
   ]
  },
  {
   "cell_type": "markdown",
   "id": "d396cef3",
   "metadata": {},
   "source": [
    "2.GAMMA¶"
   ]
  },
  {
   "cell_type": "markdown",
   "id": "639fd2e8",
   "metadata": {},
   "source": [
    "Gamma, Γ, measures the rate of change in the delta with respect to changes in the underlying price. Gamma is the second derivative of the value function with respect to the underlying price.\n",
    "\n"
   ]
  },
  {
   "cell_type": "code",
   "execution_count": 65,
   "id": "e64e8aac",
   "metadata": {},
   "outputs": [],
   "source": [
    "def gamma(S, K, T, r, q, vol, payoff):\n",
    "    \n",
    "    d1 = (np.log(S / K) + (r - q + 0.5 * vol ** 2) * T) / (vol * np.sqrt(T))\n",
    "    gamma = np.exp(- q * T) * si.norm.pdf(d1, 0.0, 1.0) / (vol * S * np.sqrt(T))\n",
    "    \n",
    "    return gamma\n",
    "\n",
    "\n"
   ]
  },
  {
   "cell_type": "code",
   "execution_count": 66,
   "id": "9c9b26a8",
   "metadata": {},
   "outputs": [
    {
     "data": {
      "text/plain": [
       "6.36646394385193e-05"
      ]
     },
     "execution_count": 66,
     "metadata": {},
     "output_type": "execute_result"
    }
   ],
   "source": [
    "gamma(31637, 32186, 0.08, 0.04, 0, 0.7, 'call')"
   ]
  },
  {
   "cell_type": "code",
   "execution_count": 67,
   "id": "7bc606d6",
   "metadata": {},
   "outputs": [
    {
     "data": {
      "text/plain": [
       "<matplotlib.legend.Legend at 0x7fc9fed39fd0>"
      ]
     },
     "execution_count": 67,
     "metadata": {},
     "output_type": "execute_result"
    },
    {
     "data": {
      "image/png": "[encoded data removed]",
      "text/plain": [
       "<Figure size 640x480 with 1 Axes>"
      ]
     },
     "metadata": {},
     "output_type": "display_data"
    }
   ],
   "source": [
    "fig = plt.figure()\n",
    "plt.plot(S, Delta_Call, '-')\n",
    "plt.grid()\n",
    "plt.xlabel('crypto currency')\n",
    "plt.ylabel('Delta')\n",
    "plt.title('Delta')\n",
    "plt.legend(['Delta for Call'])\n"
   ]
  },
  {
   "cell_type": "markdown",
   "id": "72c02e2b",
   "metadata": {},
   "source": [
    "2.GAMMA\n"
   ]
  },
  {
   "cell_type": "markdown",
   "id": "15485901",
   "metadata": {},
   "source": [
    "Gamma, Γ, measures the rate of change in the delta with respect to changes in the underlying price. Gamma is the second derivative of the value function with respect to the underlying price.\n",
    "\n",
    "\n"
   ]
  },
  {
   "cell_type": "code",
   "execution_count": 68,
   "id": "ad84be83",
   "metadata": {},
   "outputs": [],
   "source": [
    "def gamma(S, K, T, r, q, vol, payoff):\n",
    "    \n",
    "    d1 = (np.log(S / K) + (r - q + 0.5 * vol ** 2) * T) / (vol * np.sqrt(T))\n",
    "    gamma = np.exp(- q * T) * si.norm.pdf(d1, 0.0, 1.0) / (vol * S * np.sqrt(T))\n",
    "    \n",
    "    return gamma\n",
    "\n",
    "\n"
   ]
  },
  {
   "cell_type": "code",
   "execution_count": 69,
   "id": "4dd99145",
   "metadata": {},
   "outputs": [
    {
     "data": {
      "text/plain": [
       "6.36646394385193e-05"
      ]
     },
     "execution_count": 69,
     "metadata": {},
     "output_type": "execute_result"
    }
   ],
   "source": [
    "gamma(31637, 32186, 0.08, 0.04, 0, 0.7, 'call')"
   ]
  },
  {
   "cell_type": "markdown",
   "id": "8ed5249b",
   "metadata": {},
   "source": [
    "if the underlying asset price increase from 31637 to 31638 the call option for Delta will increase by 6.37"
   ]
  },
  {
   "cell_type": "code",
   "execution_count": 70,
   "id": "b0041ba2",
   "metadata": {},
   "outputs": [],
   "source": [
    "S = np.linspace(50,150,11)\n",
    "Gamma = np.zeros((len(S),1))\n",
    "for i in range(len(S)):\n",
    "    Gamma [i] = gamma(S[i], 31637, 0.08, 0.04, 0, 0.7, 'call')\n"
   ]
  },
  {
   "cell_type": "code",
   "execution_count": 71,
   "id": "465351be",
   "metadata": {},
   "outputs": [
    {
     "data": {
      "text/plain": [
       "<matplotlib.legend.Legend at 0x7fc9feec0550>"
      ]
     },
     "execution_count": 71,
     "metadata": {},
     "output_type": "execute_result"
    },
    {
     "data": {
      "image/png": "[encoded data removed]",
      "text/plain": [
       "<Figure size 640x480 with 1 Axes>"
      ]
     },
     "metadata": {},
     "output_type": "display_data"
    }
   ],
   "source": [
    "fig = plt.figure()\n",
    "plt.plot(S, Gamma, '-')\n",
    "plt.grid()\n",
    "plt.xlabel('crypto currency')\n",
    "plt.ylabel('Gamma')\n",
    "plt.title('Gamma')\n",
    "plt.legend(['Gamma for Call' ])\n",
    "\n"
   ]
  },
  {
   "cell_type": "markdown",
   "id": "f5939f70",
   "metadata": {},
   "source": [
    "3. SPEED¶¶"
   ]
  },
  {
   "cell_type": "markdown",
   "id": "0640b85d",
   "metadata": {},
   "source": [
    "Speed measures the rate of change in Gamma with respect to changes in the underlying price"
   ]
  },
  {
   "cell_type": "code",
   "execution_count": 72,
   "id": "260f5712",
   "metadata": {},
   "outputs": [],
   "source": [
    "def speed(S, K, T, r, q, vol, payoff):\n",
    "    \n",
    "    d1 = (np.log(S / K) + (r - q + 0.5 * vol ** 2) * T) / (vol * np.sqrt(T))\n",
    "    speed = - np.exp(-q * T) * si.norm.pdf(d1, 0.0, 1.0) / ((vol **2) * (S**2) * np.sqrt(T)) * (d1 + vol * np.sqrt(T))\n",
    "    \n",
    "    return speed"
   ]
  },
  {
   "cell_type": "code",
   "execution_count": 73,
   "id": "e77b79dd",
   "metadata": {},
   "outputs": [
    {
     "data": {
      "text/plain": [
       "-6.504271966366823e-10"
      ]
     },
     "execution_count": 73,
     "metadata": {},
     "output_type": "execute_result"
    }
   ],
   "source": [
    "speed(31637, 32186, 0.08, 0.04, 0, 0.7, 'call')\n"
   ]
  },
  {
   "cell_type": "markdown",
   "id": "67d7606c",
   "metadata": {},
   "source": [
    "when the underlying asset price change from 31637 to 31636 then the gamma will decrease by 6.504"
   ]
  },
  {
   "cell_type": "code",
   "execution_count": 74,
   "id": "f25ae88d",
   "metadata": {},
   "outputs": [],
   "source": [
    "S = np.linspace(50,150,11)\n",
    "Speed = np.zeros((len(S),1))\n",
    "for i in range(len(S)):\n",
    "    Speed [i] = speed(S[i], 31637, 32186, 0.08, 0.04, 0.7, 'call')\n"
   ]
  },
  {
   "cell_type": "code",
   "execution_count": 75,
   "id": "0f13fae1",
   "metadata": {},
   "outputs": [
    {
     "data": {
      "text/plain": [
       "<matplotlib.legend.Legend at 0x7fc9ff81e250>"
      ]
     },
     "execution_count": 75,
     "metadata": {},
     "output_type": "execute_result"
    },
    {
     "data": {
      "image/png": "[encoded data removed]",
      "text/plain": [
       "<Figure size 640x480 with 1 Axes>"
      ]
     },
     "metadata": {},
     "output_type": "display_data"
    }
   ],
   "source": [
    "fig = plt.figure()\n",
    "plt.plot(S, Speed, '-')\n",
    "plt.grid()\n",
    "plt.xlabel('crypto currency')\n",
    "plt.ylabel('Speed')\n",
    "plt.title('Speed')\n",
    "plt.legend(['Speed for Call'])"
   ]
  },
  {
   "cell_type": "markdown",
   "id": "4643f730",
   "metadata": {},
   "source": [
    "4.theta"
   ]
  },
  {
   "cell_type": "markdown",
   "id": "ac9bc257",
   "metadata": {},
   "source": [
    "Theta, 𝜃, measures the sensitivity of the value of the derivative to the passage of time (see Option time value): the \"time decay\""
   ]
  },
  {
   "cell_type": "code",
   "execution_count": 78,
   "id": "81b4417b",
   "metadata": {},
   "outputs": [],
   "source": [
    "def theta(S, K, T, r, q, vol, payoff):\n",
    "    \n",
    "    d1 = (np.log(S / K) + (r - q + 0.5 * vol ** 2) * T) / (vol * np.sqrt(T))\n",
    "    d2 = (np.log(S / K) + (r - q - 0.5 * vol ** 2) * T) / (vol * np.sqrt(T))\n",
    "    if payoff == \"call\":\n",
    "        theta = vol * S * np.exp(-q * T) * si.norm.pdf(d1, 0.0, 1.0) / (2 * np.sqrt(T)) - q * S * np.exp(-q * T) * si.norm.cdf(d1, 0.0, 1.0) + r * K * np.exp(-r * T) * si.norm.cdf(d2, 0.0, 1.0)\n",
    "    elif payoff == \"put\":\n",
    "        theta = vol * S * np.exp(-q * T) * si.norm.pdf(-d1, 0.0, 1.0) / (2 * np.sqrt(T)) + q * S * np.exp(-q * T) * si.norm.cdf(-d1, 0.0, 1.0) - r * K * np.exp(-r * T) * si.norm.cdf(-d2, 0.0, 1.0)\n",
    "    \n",
    "    return theta\n"
   ]
  },
  {
   "cell_type": "code",
   "execution_count": 79,
   "id": "66d0d273",
   "metadata": {},
   "outputs": [
    {
     "data": {
      "text/plain": [
       "16167.054157905304"
      ]
     },
     "execution_count": 79,
     "metadata": {},
     "output_type": "execute_result"
    }
   ],
   "source": [
    "theta(31637, 32186, 0.08, 0.04, 0, 0.7, 'call')"
   ]
  },
  {
   "cell_type": "markdown",
   "id": "ebf435bf",
   "metadata": {},
   "source": [
    "when there is an increase in time then call option value will increase by $16167."
   ]
  },
  {
   "cell_type": "code",
   "execution_count": 80,
   "id": "2645bc40",
   "metadata": {},
   "outputs": [],
   "source": [
    "T = np.linspace(0.25,3,12)\n",
    "Theta_Call = np.zeros((len(T),1))\n",
    "Theta_Put = np.zeros((len(T),1))\n",
    "for i in range(len(T)):\n",
    "    Theta_Call [i] = theta(31637, 32186, 0.08, 0.04, 0, 0.7, 'call')"
   ]
  },
  {
   "cell_type": "code",
   "execution_count": 81,
   "id": "3d66eded",
   "metadata": {},
   "outputs": [
    {
     "data": {
      "text/plain": [
       "<matplotlib.legend.Legend at 0x7fc9ff9c50a0>"
      ]
     },
     "execution_count": 81,
     "metadata": {},
     "output_type": "execute_result"
    },
    {
     "data": {
      "image/png": "[encoded data removed]",
      "text/plain": [
       "<Figure size 640x480 with 1 Axes>"
      ]
     },
     "metadata": {},
     "output_type": "display_data"
    }
   ],
   "source": [
    "fig = plt.figure()\n",
    "plt.plot(T, Theta_Call, '-')\n",
    "plt.grid()\n",
    "plt.xlabel('Time to Expiry')\n",
    "plt.ylabel('Theta')\n",
    "plt.title('Theta')\n",
    "plt.legend(['Theta for Call' ])"
   ]
  },
  {
   "cell_type": "markdown",
   "id": "e3692623",
   "metadata": {},
   "source": [
    "RHO"
   ]
  },
  {
   "cell_type": "code",
   "execution_count": 82,
   "id": "b123a6f7",
   "metadata": {},
   "outputs": [],
   "source": [
    "def rho(S, K, T, r, q, vol, payoff):\n",
    "    \n",
    "    d1 = (np.log(S / K) + (r - q + 0.5 * vol ** 2) * T) / (vol * np.sqrt(T))\n",
    "    d2 = (np.log(S / K) + (r - q - 0.5 * vol ** 2) * T) / (vol * np.sqrt(T))\n",
    "    if payoff == \"call\":\n",
    "        rho =  K * T * np.exp(-r * T) * si.norm.cdf(d2, 0.0, 1.0)\n",
    "    elif payoff == \"put\":\n",
    "        rho = - K * T * np.exp(-r * T) * si.norm.cdf(-d2, 0.0, 1.0)\n",
    "    \n",
    "    return rho"
   ]
  },
  {
   "cell_type": "code",
   "execution_count": 83,
   "id": "a5330885",
   "metadata": {},
   "outputs": [
    {
     "data": {
      "text/plain": [
       "1110.3660911443083"
      ]
     },
     "execution_count": 83,
     "metadata": {},
     "output_type": "execute_result"
    }
   ],
   "source": [
    "rho(31637, 32186, 0.08, 0.04, 0, 0.7, 'call')\n",
    "\n"
   ]
  },
  {
   "cell_type": "markdown",
   "id": "5b79ea7a",
   "metadata": {},
   "source": [
    "if the interest rate increase by 1% then call price will increase by $11.1"
   ]
  },
  {
   "cell_type": "code",
   "execution_count": 84,
   "id": "993c1670",
   "metadata": {},
   "outputs": [],
   "source": [
    "r = np.linspace(0,0.1,11)\n",
    "Rho_Call = np.zeros((len(r),1))\n",
    "Rho_Put = np.zeros((len(r),1))\n",
    "for i in range(len(r)):\n",
    "    Rho_Call [i] = rho(31637, 32186, 0.08, 0.04, 0, 0.7, 'call')"
   ]
  },
  {
   "cell_type": "code",
   "execution_count": 85,
   "id": "49aff777",
   "metadata": {},
   "outputs": [
    {
     "data": {
      "text/plain": [
       "<matplotlib.legend.Legend at 0x7fc9ffc6e2b0>"
      ]
     },
     "execution_count": 85,
     "metadata": {},
     "output_type": "execute_result"
    },
    {
     "data": {
      "image/png": "[encoded data removed]",
      "text/plain": [
       "<Figure size 640x480 with 1 Axes>"
      ]
     },
     "metadata": {},
     "output_type": "display_data"
    }
   ],
   "source": [
    "fig = plt.figure()\n",
    "plt.plot(r, Rho_Call, '-')\n",
    "\n",
    "plt.grid()\n",
    "plt.xlabel('Interest Rate')\n",
    "plt.ylabel('Rho')\n",
    "plt.title('Rho')\n",
    "plt.legend(['Rho for Call', ])"
   ]
  },
  {
   "cell_type": "code",
   "execution_count": null,
   "id": "9fa4c614",
   "metadata": {},
   "outputs": [],
   "source": []
  }
 ],
 "metadata": {
  "kernelspec": {
   "display_name": "Python 3 (ipykernel)",
   "language": "python",
   "name": "python3"
  },
  "language_info": {
   "codemirror_mode": {
    "name": "ipython",
    "version": 3
   },
   "file_extension": ".py",
   "mimetype": "text/x-python",
   "name": "python",
   "nbconvert_exporter": "python",
   "pygments_lexer": "ipython3",
   "version": "3.9.13"
  }
 },
 "nbformat": 4,
 "nbformat_minor": 5
}
